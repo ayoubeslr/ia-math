{
  "nbformat": 4,
  "nbformat_minor": 0,
  "metadata": {
    "colab": {
      "name": "number_recognition.ipynb",
      "provenance": []
    },
    "kernelspec": {
      "name": "python3",
      "display_name": "Python 3"
    },
    "language_info": {
      "name": "python"
    }
  },
  "cells": [
    {
      "cell_type": "code",
      "metadata": {
        "id": "qk31yosoGT3a"
      },
      "source": [
        "from tensorflow.keras.datasets import mnist\n",
        "import matplotlib.pyplot as plt"
      ],
      "execution_count": null,
      "outputs": []
    },
    {
      "cell_type": "code",
      "metadata": {
        "colab": {
          "base_uri": "https://localhost:8080/"
        },
        "id": "0hR6bxk0Gs8a",
        "outputId": "e07c689e-bb60-4268-bf2b-8bc4dad559b3"
      },
      "source": [
        "# chargement des données\n",
        "(X_train_data,Y_train_data),(X_test_data,Y_test_data) = mnist.load_data()"
      ],
      "execution_count": null,
      "outputs": [
        {
          "output_type": "stream",
          "name": "stdout",
          "text": [
            "Downloading data from https://storage.googleapis.com/tensorflow/tf-keras-datasets/mnist.npz\n",
            "11493376/11490434 [==============================] - 0s 0us/step\n",
            "11501568/11490434 [==============================] - 0s 0us/step\n"
          ]
        }
      ]
    },
    {
      "cell_type": "code",
      "metadata": {
        "colab": {
          "base_uri": "https://localhost:8080/",
          "height": 265
        },
        "id": "ygKFIn0bGXUR",
        "outputId": "5cb499eb-d66d-44cd-dc74-36a682170f13"
      },
      "source": [
        "# exemple d'affichage d'un image\n",
        "plt.imshow(X_train_data[1], cmap='Greys')\n",
        "plt.show()"
      ],
      "execution_count": null,
      "outputs": [
        {
          "output_type": "display_data",
          "data": {
            "image/png": "[encoded data removed]",
            "text/plain": [
              "<Figure size 432x288 with 1 Axes>"
            ]
          },
          "metadata": {
            "needs_background": "light"
          }
        }
      ]
    },
    {
      "cell_type": "code",
      "metadata": {
        "id": "tv8aLa26HDDk"
      },
      "source": [
        "import numpy as np\n",
        "from tensorflow import keras\n",
        "from tensorflow.keras import optimizers\n",
        "from tensorflow.keras.models import Sequential\n",
        "from tensorflow.keras.layers import Dense\n",
        "\n",
        "from tensorflow.keras.datasets import mnist\n",
        "from tensorflow.keras.utils import to_categorical"
      ],
      "execution_count": null,
      "outputs": []
    },
    {
      "cell_type": "code",
      "metadata": {
        "colab": {
          "base_uri": "https://localhost:8080/"
        },
        "id": "wv9FyYqpNLmA",
        "outputId": "7ca4dcfe-d5fe-4200-a2b5-f334fcda1790"
      },
      "source": [
        "### Partie A - Les données\n",
        "from tensorflow.keras.datasets import mnist\n",
        "from tensorflow.keras.utils import to_categorical\n",
        "\n",
        "# Téléchargement des données\n",
        "(X_train_data,Y_train_data),(X_test_data,Y_test_data) = mnist.load_data()\n",
        "N = X_train_data.shape[0] # N = 60 000 données\n",
        "\n",
        "# Données d'apprentissage X\n",
        "X_train = np.reshape(X_train_data,(N,784)) # vecteur image\n",
        "X_train = X_train/255 # normalisation\n",
        "\n",
        "# Données d'apprentissage Y vers une liste de taille 10\n",
        "Y_train = to_categorical(Y_train_data, num_classes=10)\n",
        "print(Y_train)\n",
        "print(len(Y_train))\n",
        "# Données de test\n",
        "X_test = np.reshape(X_test_data,(X_test_data.shape[0],784))\n",
        "X_test = X_test/255\n",
        "Y_test = to_categorical(Y_test_data, num_classes=10)"
      ],
      "execution_count": null,
      "outputs": [
        {
          "output_type": "stream",
          "name": "stdout",
          "text": [
            "[[0. 0. 0. ... 0. 0. 0.]\n",
            " [1. 0. 0. ... 0. 0. 0.]\n",
            " [0. 0. 0. ... 0. 0. 0.]\n",
            " ...\n",
            " [0. 0. 0. ... 0. 0. 0.]\n",
            " [0. 0. 0. ... 0. 0. 0.]\n",
            " [0. 0. 0. ... 0. 1. 0.]]\n",
            "60000\n"
          ]
        }
      ]
    },
    {
      "cell_type": "code",
      "metadata": {
        "id": "g9zSYvScOdLh"
      },
      "source": [
        "### Partie B - Le réseau de neurones\n",
        "p = 8\n",
        "modele = Sequential()\n",
        "\n",
        "# Première couche : p neurones (entrée de dimension 784 = 28x28)\n",
        "modele.add(Dense(p, input_dim=784, activation='sigmoid'))\n",
        "\n",
        "# Deuxième couche : p neurones\n",
        "modele.add(Dense(p, activation='sigmoid'))\n",
        "\n",
        "# Couche de sortie : 1O neurones (un par chiffre)\n",
        "modele.add(Dense(10, activation='softmax'))\n",
        "\n",
        "# Choix de la méthode de descente de gradient\n",
        "modele.compile(loss='categorical_crossentropy',\n",
        "optimizer='sgd',\n",
        "metrics=['accuracy'])\n",
        "print(modele.summary())"
      ],
      "execution_count": null,
      "outputs": []
    },
    {
      "cell_type": "code",
      "metadata": {
        "id": "LfTFqUEgOf4F"
      },
      "source": [
        "### Partie C - Calcul des poids par descente de gradient\n",
        "\n",
        "modele.fit(X_train, Y_train, batch_size=32, epochs=40)"
      ],
      "execution_count": null,
      "outputs": []
    },
    {
      "cell_type": "code",
      "metadata": {
        "colab": {
          "base_uri": "https://localhost:8080/"
        },
        "id": "yO_T50yoMoG0",
        "outputId": "4d55e455-a261-41ef-93d4-1cb08173a6f3"
      },
      "source": [
        "### Partie D - Résultats\n",
        "\n",
        "resultat = modele.evaluate(X_test, Y_test, verbose=0)\n",
        "print('Valeur de l''erreur sur les données de test (loss):', resultat[0])\n",
        "print('Précision sur les données de test (accuracy):', resultat[1])"
      ],
      "execution_count": null,
      "outputs": [
        {
          "output_type": "stream",
          "name": "stdout",
          "text": [
            "Valeur de lerreur sur les données de test (loss): 0.34851208329200745\n",
            "Précision sur les données de test (accuracy): 0.9067000150680542\n"
          ]
        }
      ]
    },
    {
      "cell_type": "code",
      "metadata": {
        "colab": {
          "base_uri": "https://localhost:8080/",
          "height": 333
        },
        "id": "_C6ug5MHdgz8",
        "outputId": "775fa084-dff7-4985-bbf0-c4de7e6c42e3"
      },
      "source": [
        "# Prédiction sur les données de test\n",
        "Y_predict = modele.predict(X_test)\n",
        "# Un exemple\n",
        "i = 9 # numéro de l'image\n",
        "chiffre_predit = np.argmax(Y_predict[i]) # prédiction par le réseau\n",
        "print(\"Sortie réseau\", Y_predict[i])\n",
        "print(\"Chiffre attendu :\", Y_test_data[i])\n",
        "print(\"Chiffre prédit :\", chiffre_predit)\n",
        "plt.imshow(X_test_data[i], cmap='Greys')\n",
        "plt.show()"
      ],
      "execution_count": null,
      "outputs": [
        {
          "output_type": "stream",
          "name": "stdout",
          "text": [
            "Sortie réseau [1.4822747e-04 1.0486662e-03 1.0257023e-04 1.7465197e-04 1.3116178e-01\n",
            " 4.5501357e-03 1.5489562e-04 6.6435061e-02 1.1030567e-03 7.9512095e-01]\n",
            "Chiffre attendu : 9\n",
            "Chiffre prédit : 9\n"
          ]
        },
        {
          "output_type": "display_data",
          "data": {
            "image/png": "[encoded data removed]",
            "text/plain": [
              "<Figure size 432x288 with 1 Axes>"
            ]
          },
          "metadata": {
            "needs_background": "light"
          }
        }
      ]
    }
  ]
}